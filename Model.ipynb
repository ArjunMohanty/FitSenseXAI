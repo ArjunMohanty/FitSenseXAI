{
  "nbformat": 4,
  "nbformat_minor": 0,
  "metadata": {
    "colab": {
      "provenance": []
    },
    "kernelspec": {
      "name": "python3",
      "display_name": "Python 3"
    },
    "language_info": {
      "name": "python"
    }
  },
  "cells": [
    {
      "cell_type": "markdown",
      "source": [
        "## Importing Data from google drive"
      ],
      "metadata": {
        "id": "PhLpybkdUVCz"
      }
    },
    {
      "cell_type": "code",
      "source": [
        "from google.colab import drive\n",
        "drive.mount('/content/drive')"
      ],
      "metadata": {
        "id": "QQ1y3HB24Nis",
        "colab": {
          "base_uri": "https://localhost:8080/"
        },
        "outputId": "5db14c29-af0e-4676-f314-d9fef21248c2"
      },
      "execution_count": null,
      "outputs": [
        {
          "output_type": "stream",
          "name": "stdout",
          "text": [
            "Drive already mounted at /content/drive; to attempt to forcibly remount, call drive.mount(\"/content/drive\", force_remount=True).\n"
          ]
        }
      ]
    },
    {
      "cell_type": "markdown",
      "source": [
        "## importing important libraries"
      ],
      "metadata": {
        "id": "2Cor8ZLiUaLJ"
      }
    },
    {
      "cell_type": "code",
      "source": [
        "import pandas as pd\n",
        "import numpy as np\n",
        "import matplotlib.pyplot as plt\n",
        "import seaborn as sb"
      ],
      "metadata": {
        "id": "MNiUr2x35bMf"
      },
      "execution_count": null,
      "outputs": []
    },
    {
      "cell_type": "code",
      "source": [
        "df = pd.read_csv('drive/MyDrive/body_measurements_dataset.csv')"
      ],
      "metadata": {
        "id": "qw4X3NUo6QF7"
      },
      "execution_count": null,
      "outputs": []
    },
    {
      "cell_type": "code",
      "source": [
        "print(df.columns)"
      ],
      "metadata": {
        "id": "huGOlZr26Ye6",
        "colab": {
          "base_uri": "https://localhost:8080/"
        },
        "outputId": "0fafaf45-8466-44c9-e85c-56eb28428e1b"
      },
      "execution_count": null,
      "outputs": [
        {
          "output_type": "stream",
          "name": "stdout",
          "text": [
            "Index(['Gender', 'Height', 'Weight', 'Bust/Chest', 'Cup Size', 'Waist', 'Hips',\n",
            "       'Body Shape Index'],\n",
            "      dtype='object')\n"
          ]
        }
      ]
    },
    {
      "cell_type": "code",
      "source": [
        "df['Size'] = 6"
      ],
      "metadata": {
        "id": "V5FMUrsL1QMv"
      },
      "execution_count": null,
      "outputs": []
    },
    {
      "cell_type": "markdown",
      "source": [
        "Splitting data into male and female parts to separately classify the parameters"
      ],
      "metadata": {
        "id": "RYqqRYKuUfay"
      }
    },
    {
      "cell_type": "code",
      "source": [
        "df_male = df[df['Gender'] == 'Male']\n",
        "df_female = df[df['Gender'] == 'Female']"
      ],
      "metadata": {
        "id": "en6HbHqC6yDd"
      },
      "execution_count": null,
      "outputs": []
    },
    {
      "cell_type": "markdown",
      "source": [
        "## Dropping unecessary Parameters\n",
        "\n",
        "Gender is indeterminate and Cup size is invalid for males"
      ],
      "metadata": {
        "id": "W5a8FOJwUmnF"
      }
    },
    {
      "cell_type": "code",
      "source": [
        "df_male = df_male.drop(['Gender', 'Cup Size'], axis=1)\n",
        "df_male.head()"
      ],
      "metadata": {
        "id": "nYqUrHv97Z1j",
        "colab": {
          "base_uri": "https://localhost:8080/",
          "height": 206
        },
        "outputId": "13a83ab8-968b-4f3c-d0a2-b1a78c84fc11"
      },
      "execution_count": null,
      "outputs": [
        {
          "output_type": "execute_result",
          "data": {
            "text/plain": [
              "  Height  Weight  Bust/Chest  Waist  Hips  Body Shape Index  Size\n",
              "1   6'1\"      85          40     30    31                 3     6\n",
              "2   5'3\"      77          44     36    42                 4     6\n",
              "3   6'4\"      74          38     48    49                 4     6\n",
              "4  4'11\"      47          35     39    41                 0     6\n",
              "7   6'4\"      88          37     48    49                 3     6"
            ],
            "text/html": [
              "\n",
              "  <div id=\"df-cef2a162-1b82-4d2f-bab2-3b03b2027dc7\" class=\"colab-df-container\">\n",
              "    <div>\n",
              "<style scoped>\n",
              "    .dataframe tbody tr th:only-of-type {\n",
              "        vertical-align: middle;\n",
              "    }\n",
              "\n",
              "    .dataframe tbody tr th {\n",
              "        vertical-align: top;\n",
              "    }\n",
              "\n",
              "    .dataframe thead th {\n",
              "        text-align: right;\n",
              "    }\n",
              "</style>\n",
              "<table border=\"1\" class=\"dataframe\">\n",
              "  <thead>\n",
              "    <tr style=\"text-align: right;\">\n",
              "      <th></th>\n",
              "      <th>Height</th>\n",
              "      <th>Weight</th>\n",
              "      <th>Bust/Chest</th>\n",
              "      <th>Waist</th>\n",
              "      <th>Hips</th>\n",
              "      <th>Body Shape Index</th>\n",
              "      <th>Size</th>\n",
              "    </tr>\n",
              "  </thead>\n",
              "  <tbody>\n",
              "    <tr>\n",
              "      <th>1</th>\n",
              "      <td>6'1\"</td>\n",
              "      <td>85</td>\n",
              "      <td>40</td>\n",
              "      <td>30</td>\n",
              "      <td>31</td>\n",
              "      <td>3</td>\n",
              "      <td>6</td>\n",
              "    </tr>\n",
              "    <tr>\n",
              "      <th>2</th>\n",
              "      <td>5'3\"</td>\n",
              "      <td>77</td>\n",
              "      <td>44</td>\n",
              "      <td>36</td>\n",
              "      <td>42</td>\n",
              "      <td>4</td>\n",
              "      <td>6</td>\n",
              "    </tr>\n",
              "    <tr>\n",
              "      <th>3</th>\n",
              "      <td>6'4\"</td>\n",
              "      <td>74</td>\n",
              "      <td>38</td>\n",
              "      <td>48</td>\n",
              "      <td>49</td>\n",
              "      <td>4</td>\n",
              "      <td>6</td>\n",
              "    </tr>\n",
              "    <tr>\n",
              "      <th>4</th>\n",
              "      <td>4'11\"</td>\n",
              "      <td>47</td>\n",
              "      <td>35</td>\n",
              "      <td>39</td>\n",
              "      <td>41</td>\n",
              "      <td>0</td>\n",
              "      <td>6</td>\n",
              "    </tr>\n",
              "    <tr>\n",
              "      <th>7</th>\n",
              "      <td>6'4\"</td>\n",
              "      <td>88</td>\n",
              "      <td>37</td>\n",
              "      <td>48</td>\n",
              "      <td>49</td>\n",
              "      <td>3</td>\n",
              "      <td>6</td>\n",
              "    </tr>\n",
              "  </tbody>\n",
              "</table>\n",
              "</div>\n",
              "    <div class=\"colab-df-buttons\">\n",
              "\n",
              "  <div class=\"colab-df-container\">\n",
              "    <button class=\"colab-df-convert\" onclick=\"convertToInteractive('df-cef2a162-1b82-4d2f-bab2-3b03b2027dc7')\"\n",
              "            title=\"Convert this dataframe to an interactive table.\"\n",
              "            style=\"display:none;\">\n",
              "\n",
              "  <svg xmlns=\"http://www.w3.org/2000/svg\" height=\"24px\" viewBox=\"0 -960 960 960\">\n",
              "    <path d=\"M120-120v-720h720v720H120Zm60-500h600v-160H180v160Zm220 220h160v-160H400v160Zm0 220h160v-160H400v160ZM180-400h160v-160H180v160Zm440 0h160v-160H620v160ZM180-180h160v-160H180v160Zm440 0h160v-160H620v160Z\"/>\n",
              "  </svg>\n",
              "    </button>\n",
              "\n",
              "  <style>\n",
              "    .colab-df-container {\n",
              "      display:flex;\n",
              "      gap: 12px;\n",
              "    }\n",
              "\n",
              "    .colab-df-convert {\n",
              "      background-color: #E8F0FE;\n",
              "      border: none;\n",
              "      border-radius: 50%;\n",
              "      cursor: pointer;\n",
              "      display: none;\n",
              "      fill: #1967D2;\n",
              "      height: 32px;\n",
              "      padding: 0 0 0 0;\n",
              "      width: 32px;\n",
              "    }\n",
              "\n",
              "    .colab-df-convert:hover {\n",
              "      background-color: #E2EBFA;\n",
              "      box-shadow: 0px 1px 2px rgba(60, 64, 67, 0.3), 0px 1px 3px 1px rgba(60, 64, 67, 0.15);\n",
              "      fill: #174EA6;\n",
              "    }\n",
              "\n",
              "    .colab-df-buttons div {\n",
              "      margin-bottom: 4px;\n",
              "    }\n",
              "\n",
              "    [theme=dark] .colab-df-convert {\n",
              "      background-color: #3B4455;\n",
              "      fill: #D2E3FC;\n",
              "    }\n",
              "\n",
              "    [theme=dark] .colab-df-convert:hover {\n",
              "      background-color: #434B5C;\n",
              "      box-shadow: 0px 1px 3px 1px rgba(0, 0, 0, 0.15);\n",
              "      filter: drop-shadow(0px 1px 2px rgba(0, 0, 0, 0.3));\n",
              "      fill: #FFFFFF;\n",
              "    }\n",
              "  </style>\n",
              "\n",
              "    <script>\n",
              "      const buttonEl =\n",
              "        document.querySelector('#df-cef2a162-1b82-4d2f-bab2-3b03b2027dc7 button.colab-df-convert');\n",
              "      buttonEl.style.display =\n",
              "        google.colab.kernel.accessAllowed ? 'block' : 'none';\n",
              "\n",
              "      async function convertToInteractive(key) {\n",
              "        const element = document.querySelector('#df-cef2a162-1b82-4d2f-bab2-3b03b2027dc7');\n",
              "        const dataTable =\n",
              "          await google.colab.kernel.invokeFunction('convertToInteractive',\n",
              "                                                    [key], {});\n",
              "        if (!dataTable) return;\n",
              "\n",
              "        const docLinkHtml = 'Like what you see? Visit the ' +\n",
              "          '<a target=\"_blank\" href=https://colab.research.google.com/notebooks/data_table.ipynb>data table notebook</a>'\n",
              "          + ' to learn more about interactive tables.';\n",
              "        element.innerHTML = '';\n",
              "        dataTable['output_type'] = 'display_data';\n",
              "        await google.colab.output.renderOutput(dataTable, element);\n",
              "        const docLink = document.createElement('div');\n",
              "        docLink.innerHTML = docLinkHtml;\n",
              "        element.appendChild(docLink);\n",
              "      }\n",
              "    </script>\n",
              "  </div>\n",
              "\n",
              "\n",
              "<div id=\"df-0f71d0f7-11be-43d9-81d6-6143a5a3a929\">\n",
              "  <button class=\"colab-df-quickchart\" onclick=\"quickchart('df-0f71d0f7-11be-43d9-81d6-6143a5a3a929')\"\n",
              "            title=\"Suggest charts\"\n",
              "            style=\"display:none;\">\n",
              "\n",
              "<svg xmlns=\"http://www.w3.org/2000/svg\" height=\"24px\"viewBox=\"0 0 24 24\"\n",
              "     width=\"24px\">\n",
              "    <g>\n",
              "        <path d=\"M19 3H5c-1.1 0-2 .9-2 2v14c0 1.1.9 2 2 2h14c1.1 0 2-.9 2-2V5c0-1.1-.9-2-2-2zM9 17H7v-7h2v7zm4 0h-2V7h2v10zm4 0h-2v-4h2v4z\"/>\n",
              "    </g>\n",
              "</svg>\n",
              "  </button>\n",
              "\n",
              "<style>\n",
              "  .colab-df-quickchart {\n",
              "      --bg-color: #E8F0FE;\n",
              "      --fill-color: #1967D2;\n",
              "      --hover-bg-color: #E2EBFA;\n",
              "      --hover-fill-color: #174EA6;\n",
              "      --disabled-fill-color: #AAA;\n",
              "      --disabled-bg-color: #DDD;\n",
              "  }\n",
              "\n",
              "  [theme=dark] .colab-df-quickchart {\n",
              "      --bg-color: #3B4455;\n",
              "      --fill-color: #D2E3FC;\n",
              "      --hover-bg-color: #434B5C;\n",
              "      --hover-fill-color: #FFFFFF;\n",
              "      --disabled-bg-color: #3B4455;\n",
              "      --disabled-fill-color: #666;\n",
              "  }\n",
              "\n",
              "  .colab-df-quickchart {\n",
              "    background-color: var(--bg-color);\n",
              "    border: none;\n",
              "    border-radius: 50%;\n",
              "    cursor: pointer;\n",
              "    display: none;\n",
              "    fill: var(--fill-color);\n",
              "    height: 32px;\n",
              "    padding: 0;\n",
              "    width: 32px;\n",
              "  }\n",
              "\n",
              "  .colab-df-quickchart:hover {\n",
              "    background-color: var(--hover-bg-color);\n",
              "    box-shadow: 0 1px 2px rgba(60, 64, 67, 0.3), 0 1px 3px 1px rgba(60, 64, 67, 0.15);\n",
              "    fill: var(--button-hover-fill-color);\n",
              "  }\n",
              "\n",
              "  .colab-df-quickchart-complete:disabled,\n",
              "  .colab-df-quickchart-complete:disabled:hover {\n",
              "    background-color: var(--disabled-bg-color);\n",
              "    fill: var(--disabled-fill-color);\n",
              "    box-shadow: none;\n",
              "  }\n",
              "\n",
              "  .colab-df-spinner {\n",
              "    border: 2px solid var(--fill-color);\n",
              "    border-color: transparent;\n",
              "    border-bottom-color: var(--fill-color);\n",
              "    animation:\n",
              "      spin 1s steps(1) infinite;\n",
              "  }\n",
              "\n",
              "  @keyframes spin {\n",
              "    0% {\n",
              "      border-color: transparent;\n",
              "      border-bottom-color: var(--fill-color);\n",
              "      border-left-color: var(--fill-color);\n",
              "    }\n",
              "    20% {\n",
              "      border-color: transparent;\n",
              "      border-left-color: var(--fill-color);\n",
              "      border-top-color: var(--fill-color);\n",
              "    }\n",
              "    30% {\n",
              "      border-color: transparent;\n",
              "      border-left-color: var(--fill-color);\n",
              "      border-top-color: var(--fill-color);\n",
              "      border-right-color: var(--fill-color);\n",
              "    }\n",
              "    40% {\n",
              "      border-color: transparent;\n",
              "      border-right-color: var(--fill-color);\n",
              "      border-top-color: var(--fill-color);\n",
              "    }\n",
              "    60% {\n",
              "      border-color: transparent;\n",
              "      border-right-color: var(--fill-color);\n",
              "    }\n",
              "    80% {\n",
              "      border-color: transparent;\n",
              "      border-right-color: var(--fill-color);\n",
              "      border-bottom-color: var(--fill-color);\n",
              "    }\n",
              "    90% {\n",
              "      border-color: transparent;\n",
              "      border-bottom-color: var(--fill-color);\n",
              "    }\n",
              "  }\n",
              "</style>\n",
              "\n",
              "  <script>\n",
              "    async function quickchart(key) {\n",
              "      const quickchartButtonEl =\n",
              "        document.querySelector('#' + key + ' button');\n",
              "      quickchartButtonEl.disabled = true;  // To prevent multiple clicks.\n",
              "      quickchartButtonEl.classList.add('colab-df-spinner');\n",
              "      try {\n",
              "        const charts = await google.colab.kernel.invokeFunction(\n",
              "            'suggestCharts', [key], {});\n",
              "      } catch (error) {\n",
              "        console.error('Error during call to suggestCharts:', error);\n",
              "      }\n",
              "      quickchartButtonEl.classList.remove('colab-df-spinner');\n",
              "      quickchartButtonEl.classList.add('colab-df-quickchart-complete');\n",
              "    }\n",
              "    (() => {\n",
              "      let quickchartButtonEl =\n",
              "        document.querySelector('#df-0f71d0f7-11be-43d9-81d6-6143a5a3a929 button');\n",
              "      quickchartButtonEl.style.display =\n",
              "        google.colab.kernel.accessAllowed ? 'block' : 'none';\n",
              "    })();\n",
              "  </script>\n",
              "</div>\n",
              "\n",
              "    </div>\n",
              "  </div>\n"
            ],
            "application/vnd.google.colaboratory.intrinsic+json": {
              "type": "dataframe",
              "variable_name": "df_male",
              "summary": "{\n  \"name\": \"df_male\",\n  \"rows\": 475,\n  \"fields\": [\n    {\n      \"column\": \"Height\",\n      \"properties\": {\n        \"dtype\": \"category\",\n        \"num_unique_values\": 21,\n        \"samples\": [\n          \"6'1\\\"\",\n          \"6'6\\\"\",\n          \"5'9\\\"\"\n        ],\n        \"semantic_type\": \"\",\n        \"description\": \"\"\n      }\n    },\n    {\n      \"column\": \"Weight\",\n      \"properties\": {\n        \"dtype\": \"number\",\n        \"std\": 16,\n        \"min\": 42,\n        \"max\": 117,\n        \"num_unique_values\": 75,\n        \"samples\": [\n          88,\n          105,\n          79\n        ],\n        \"semantic_type\": \"\",\n        \"description\": \"\"\n      }\n    },\n    {\n      \"column\": \"Bust/Chest\",\n      \"properties\": {\n        \"dtype\": \"number\",\n        \"std\": 6,\n        \"min\": 30,\n        \"max\": 52,\n        \"num_unique_values\": 23,\n        \"samples\": [\n          36,\n          33,\n          40\n        ],\n        \"semantic_type\": \"\",\n        \"description\": \"\"\n      }\n    },\n    {\n      \"column\": \"Waist\",\n      \"properties\": {\n        \"dtype\": \"number\",\n        \"std\": 6,\n        \"min\": 26,\n        \"max\": 48,\n        \"num_unique_values\": 23,\n        \"samples\": [\n          34,\n          40,\n          30\n        ],\n        \"semantic_type\": \"\",\n        \"description\": \"\"\n      }\n    },\n    {\n      \"column\": \"Hips\",\n      \"properties\": {\n        \"dtype\": \"number\",\n        \"std\": 6,\n        \"min\": 26,\n        \"max\": 50,\n        \"num_unique_values\": 25,\n        \"samples\": [\n          50,\n          43,\n          31\n        ],\n        \"semantic_type\": \"\",\n        \"description\": \"\"\n      }\n    },\n    {\n      \"column\": \"Body Shape Index\",\n      \"properties\": {\n        \"dtype\": \"number\",\n        \"std\": 1,\n        \"min\": 0,\n        \"max\": 4,\n        \"num_unique_values\": 5,\n        \"samples\": [\n          4,\n          2,\n          0\n        ],\n        \"semantic_type\": \"\",\n        \"description\": \"\"\n      }\n    },\n    {\n      \"column\": \"Size\",\n      \"properties\": {\n        \"dtype\": \"number\",\n        \"std\": 0,\n        \"min\": 6,\n        \"max\": 6,\n        \"num_unique_values\": 1,\n        \"samples\": [\n          6\n        ],\n        \"semantic_type\": \"\",\n        \"description\": \"\"\n      }\n    }\n  ]\n}"
            }
          },
          "metadata": {},
          "execution_count": 7
        }
      ]
    },
    {
      "cell_type": "code",
      "source": [
        "df_female = df_female.drop(['Gender'], axis=1)\n",
        "df_female.head()"
      ],
      "metadata": {
        "id": "icYZPAJh7nax",
        "colab": {
          "base_uri": "https://localhost:8080/",
          "height": 206
        },
        "outputId": "0c6f8865-3716-4a8f-ff12-c653463221fe"
      },
      "execution_count": null,
      "outputs": [
        {
          "output_type": "execute_result",
          "data": {
            "text/plain": [
              "   Height  Weight  Bust/Chest Cup Size  Waist  Hips  Body Shape Index  Size\n",
              "0    5'1\"      67          37        E     35    38                 4     6\n",
              "5    6'4\"      97          37        E     28    34                 0     6\n",
              "6    5'9\"      70          33       DD     23    23                 0     6\n",
              "8    5'1\"      59          41        D     25    26                 0     6\n",
              "12  5'11\"      92          42       DD     24    26                 4     6"
            ],
            "text/html": [
              "\n",
              "  <div id=\"df-317abc59-e087-4dd2-978a-626dae973bb7\" class=\"colab-df-container\">\n",
              "    <div>\n",
              "<style scoped>\n",
              "    .dataframe tbody tr th:only-of-type {\n",
              "        vertical-align: middle;\n",
              "    }\n",
              "\n",
              "    .dataframe tbody tr th {\n",
              "        vertical-align: top;\n",
              "    }\n",
              "\n",
              "    .dataframe thead th {\n",
              "        text-align: right;\n",
              "    }\n",
              "</style>\n",
              "<table border=\"1\" class=\"dataframe\">\n",
              "  <thead>\n",
              "    <tr style=\"text-align: right;\">\n",
              "      <th></th>\n",
              "      <th>Height</th>\n",
              "      <th>Weight</th>\n",
              "      <th>Bust/Chest</th>\n",
              "      <th>Cup Size</th>\n",
              "      <th>Waist</th>\n",
              "      <th>Hips</th>\n",
              "      <th>Body Shape Index</th>\n",
              "      <th>Size</th>\n",
              "    </tr>\n",
              "  </thead>\n",
              "  <tbody>\n",
              "    <tr>\n",
              "      <th>0</th>\n",
              "      <td>5'1\"</td>\n",
              "      <td>67</td>\n",
              "      <td>37</td>\n",
              "      <td>E</td>\n",
              "      <td>35</td>\n",
              "      <td>38</td>\n",
              "      <td>4</td>\n",
              "      <td>6</td>\n",
              "    </tr>\n",
              "    <tr>\n",
              "      <th>5</th>\n",
              "      <td>6'4\"</td>\n",
              "      <td>97</td>\n",
              "      <td>37</td>\n",
              "      <td>E</td>\n",
              "      <td>28</td>\n",
              "      <td>34</td>\n",
              "      <td>0</td>\n",
              "      <td>6</td>\n",
              "    </tr>\n",
              "    <tr>\n",
              "      <th>6</th>\n",
              "      <td>5'9\"</td>\n",
              "      <td>70</td>\n",
              "      <td>33</td>\n",
              "      <td>DD</td>\n",
              "      <td>23</td>\n",
              "      <td>23</td>\n",
              "      <td>0</td>\n",
              "      <td>6</td>\n",
              "    </tr>\n",
              "    <tr>\n",
              "      <th>8</th>\n",
              "      <td>5'1\"</td>\n",
              "      <td>59</td>\n",
              "      <td>41</td>\n",
              "      <td>D</td>\n",
              "      <td>25</td>\n",
              "      <td>26</td>\n",
              "      <td>0</td>\n",
              "      <td>6</td>\n",
              "    </tr>\n",
              "    <tr>\n",
              "      <th>12</th>\n",
              "      <td>5'11\"</td>\n",
              "      <td>92</td>\n",
              "      <td>42</td>\n",
              "      <td>DD</td>\n",
              "      <td>24</td>\n",
              "      <td>26</td>\n",
              "      <td>4</td>\n",
              "      <td>6</td>\n",
              "    </tr>\n",
              "  </tbody>\n",
              "</table>\n",
              "</div>\n",
              "    <div class=\"colab-df-buttons\">\n",
              "\n",
              "  <div class=\"colab-df-container\">\n",
              "    <button class=\"colab-df-convert\" onclick=\"convertToInteractive('df-317abc59-e087-4dd2-978a-626dae973bb7')\"\n",
              "            title=\"Convert this dataframe to an interactive table.\"\n",
              "            style=\"display:none;\">\n",
              "\n",
              "  <svg xmlns=\"http://www.w3.org/2000/svg\" height=\"24px\" viewBox=\"0 -960 960 960\">\n",
              "    <path d=\"M120-120v-720h720v720H120Zm60-500h600v-160H180v160Zm220 220h160v-160H400v160Zm0 220h160v-160H400v160ZM180-400h160v-160H180v160Zm440 0h160v-160H620v160ZM180-180h160v-160H180v160Zm440 0h160v-160H620v160Z\"/>\n",
              "  </svg>\n",
              "    </button>\n",
              "\n",
              "  <style>\n",
              "    .colab-df-container {\n",
              "      display:flex;\n",
              "      gap: 12px;\n",
              "    }\n",
              "\n",
              "    .colab-df-convert {\n",
              "      background-color: #E8F0FE;\n",
              "      border: none;\n",
              "      border-radius: 50%;\n",
              "      cursor: pointer;\n",
              "      display: none;\n",
              "      fill: #1967D2;\n",
              "      height: 32px;\n",
              "      padding: 0 0 0 0;\n",
              "      width: 32px;\n",
              "    }\n",
              "\n",
              "    .colab-df-convert:hover {\n",
              "      background-color: #E2EBFA;\n",
              "      box-shadow: 0px 1px 2px rgba(60, 64, 67, 0.3), 0px 1px 3px 1px rgba(60, 64, 67, 0.15);\n",
              "      fill: #174EA6;\n",
              "    }\n",
              "\n",
              "    .colab-df-buttons div {\n",
              "      margin-bottom: 4px;\n",
              "    }\n",
              "\n",
              "    [theme=dark] .colab-df-convert {\n",
              "      background-color: #3B4455;\n",
              "      fill: #D2E3FC;\n",
              "    }\n",
              "\n",
              "    [theme=dark] .colab-df-convert:hover {\n",
              "      background-color: #434B5C;\n",
              "      box-shadow: 0px 1px 3px 1px rgba(0, 0, 0, 0.15);\n",
              "      filter: drop-shadow(0px 1px 2px rgba(0, 0, 0, 0.3));\n",
              "      fill: #FFFFFF;\n",
              "    }\n",
              "  </style>\n",
              "\n",
              "    <script>\n",
              "      const buttonEl =\n",
              "        document.querySelector('#df-317abc59-e087-4dd2-978a-626dae973bb7 button.colab-df-convert');\n",
              "      buttonEl.style.display =\n",
              "        google.colab.kernel.accessAllowed ? 'block' : 'none';\n",
              "\n",
              "      async function convertToInteractive(key) {\n",
              "        const element = document.querySelector('#df-317abc59-e087-4dd2-978a-626dae973bb7');\n",
              "        const dataTable =\n",
              "          await google.colab.kernel.invokeFunction('convertToInteractive',\n",
              "                                                    [key], {});\n",
              "        if (!dataTable) return;\n",
              "\n",
              "        const docLinkHtml = 'Like what you see? Visit the ' +\n",
              "          '<a target=\"_blank\" href=https://colab.research.google.com/notebooks/data_table.ipynb>data table notebook</a>'\n",
              "          + ' to learn more about interactive tables.';\n",
              "        element.innerHTML = '';\n",
              "        dataTable['output_type'] = 'display_data';\n",
              "        await google.colab.output.renderOutput(dataTable, element);\n",
              "        const docLink = document.createElement('div');\n",
              "        docLink.innerHTML = docLinkHtml;\n",
              "        element.appendChild(docLink);\n",
              "      }\n",
              "    </script>\n",
              "  </div>\n",
              "\n",
              "\n",
              "<div id=\"df-74d21c6d-0a46-4ff3-bf3c-7cd627ffe24e\">\n",
              "  <button class=\"colab-df-quickchart\" onclick=\"quickchart('df-74d21c6d-0a46-4ff3-bf3c-7cd627ffe24e')\"\n",
              "            title=\"Suggest charts\"\n",
              "            style=\"display:none;\">\n",
              "\n",
              "<svg xmlns=\"http://www.w3.org/2000/svg\" height=\"24px\"viewBox=\"0 0 24 24\"\n",
              "     width=\"24px\">\n",
              "    <g>\n",
              "        <path d=\"M19 3H5c-1.1 0-2 .9-2 2v14c0 1.1.9 2 2 2h14c1.1 0 2-.9 2-2V5c0-1.1-.9-2-2-2zM9 17H7v-7h2v7zm4 0h-2V7h2v10zm4 0h-2v-4h2v4z\"/>\n",
              "    </g>\n",
              "</svg>\n",
              "  </button>\n",
              "\n",
              "<style>\n",
              "  .colab-df-quickchart {\n",
              "      --bg-color: #E8F0FE;\n",
              "      --fill-color: #1967D2;\n",
              "      --hover-bg-color: #E2EBFA;\n",
              "      --hover-fill-color: #174EA6;\n",
              "      --disabled-fill-color: #AAA;\n",
              "      --disabled-bg-color: #DDD;\n",
              "  }\n",
              "\n",
              "  [theme=dark] .colab-df-quickchart {\n",
              "      --bg-color: #3B4455;\n",
              "      --fill-color: #D2E3FC;\n",
              "      --hover-bg-color: #434B5C;\n",
              "      --hover-fill-color: #FFFFFF;\n",
              "      --disabled-bg-color: #3B4455;\n",
              "      --disabled-fill-color: #666;\n",
              "  }\n",
              "\n",
              "  .colab-df-quickchart {\n",
              "    background-color: var(--bg-color);\n",
              "    border: none;\n",
              "    border-radius: 50%;\n",
              "    cursor: pointer;\n",
              "    display: none;\n",
              "    fill: var(--fill-color);\n",
              "    height: 32px;\n",
              "    padding: 0;\n",
              "    width: 32px;\n",
              "  }\n",
              "\n",
              "  .colab-df-quickchart:hover {\n",
              "    background-color: var(--hover-bg-color);\n",
              "    box-shadow: 0 1px 2px rgba(60, 64, 67, 0.3), 0 1px 3px 1px rgba(60, 64, 67, 0.15);\n",
              "    fill: var(--button-hover-fill-color);\n",
              "  }\n",
              "\n",
              "  .colab-df-quickchart-complete:disabled,\n",
              "  .colab-df-quickchart-complete:disabled:hover {\n",
              "    background-color: var(--disabled-bg-color);\n",
              "    fill: var(--disabled-fill-color);\n",
              "    box-shadow: none;\n",
              "  }\n",
              "\n",
              "  .colab-df-spinner {\n",
              "    border: 2px solid var(--fill-color);\n",
              "    border-color: transparent;\n",
              "    border-bottom-color: var(--fill-color);\n",
              "    animation:\n",
              "      spin 1s steps(1) infinite;\n",
              "  }\n",
              "\n",
              "  @keyframes spin {\n",
              "    0% {\n",
              "      border-color: transparent;\n",
              "      border-bottom-color: var(--fill-color);\n",
              "      border-left-color: var(--fill-color);\n",
              "    }\n",
              "    20% {\n",
              "      border-color: transparent;\n",
              "      border-left-color: var(--fill-color);\n",
              "      border-top-color: var(--fill-color);\n",
              "    }\n",
              "    30% {\n",
              "      border-color: transparent;\n",
              "      border-left-color: var(--fill-color);\n",
              "      border-top-color: var(--fill-color);\n",
              "      border-right-color: var(--fill-color);\n",
              "    }\n",
              "    40% {\n",
              "      border-color: transparent;\n",
              "      border-right-color: var(--fill-color);\n",
              "      border-top-color: var(--fill-color);\n",
              "    }\n",
              "    60% {\n",
              "      border-color: transparent;\n",
              "      border-right-color: var(--fill-color);\n",
              "    }\n",
              "    80% {\n",
              "      border-color: transparent;\n",
              "      border-right-color: var(--fill-color);\n",
              "      border-bottom-color: var(--fill-color);\n",
              "    }\n",
              "    90% {\n",
              "      border-color: transparent;\n",
              "      border-bottom-color: var(--fill-color);\n",
              "    }\n",
              "  }\n",
              "</style>\n",
              "\n",
              "  <script>\n",
              "    async function quickchart(key) {\n",
              "      const quickchartButtonEl =\n",
              "        document.querySelector('#' + key + ' button');\n",
              "      quickchartButtonEl.disabled = true;  // To prevent multiple clicks.\n",
              "      quickchartButtonEl.classList.add('colab-df-spinner');\n",
              "      try {\n",
              "        const charts = await google.colab.kernel.invokeFunction(\n",
              "            'suggestCharts', [key], {});\n",
              "      } catch (error) {\n",
              "        console.error('Error during call to suggestCharts:', error);\n",
              "      }\n",
              "      quickchartButtonEl.classList.remove('colab-df-spinner');\n",
              "      quickchartButtonEl.classList.add('colab-df-quickchart-complete');\n",
              "    }\n",
              "    (() => {\n",
              "      let quickchartButtonEl =\n",
              "        document.querySelector('#df-74d21c6d-0a46-4ff3-bf3c-7cd627ffe24e button');\n",
              "      quickchartButtonEl.style.display =\n",
              "        google.colab.kernel.accessAllowed ? 'block' : 'none';\n",
              "    })();\n",
              "  </script>\n",
              "</div>\n",
              "\n",
              "    </div>\n",
              "  </div>\n"
            ],
            "application/vnd.google.colaboratory.intrinsic+json": {
              "type": "dataframe",
              "variable_name": "df_female",
              "summary": "{\n  \"name\": \"df_female\",\n  \"rows\": 525,\n  \"fields\": [\n    {\n      \"column\": \"Height\",\n      \"properties\": {\n        \"dtype\": \"category\",\n        \"num_unique_values\": 21,\n        \"samples\": [\n          \"5'1\\\"\",\n          \"5'10\\\"\",\n          \"6'3\\\"\"\n        ],\n        \"semantic_type\": \"\",\n        \"description\": \"\"\n      }\n    },\n    {\n      \"column\": \"Weight\",\n      \"properties\": {\n        \"dtype\": \"number\",\n        \"std\": 16,\n        \"min\": 41,\n        \"max\": 118,\n        \"num_unique_values\": 76,\n        \"samples\": [\n          92,\n          104,\n          54\n        ],\n        \"semantic_type\": \"\",\n        \"description\": \"\"\n      }\n    },\n    {\n      \"column\": \"Bust/Chest\",\n      \"properties\": {\n        \"dtype\": \"number\",\n        \"std\": 5,\n        \"min\": 28,\n        \"max\": 48,\n        \"num_unique_values\": 21,\n        \"samples\": [\n          37,\n          32,\n          34\n        ],\n        \"semantic_type\": \"\",\n        \"description\": \"\"\n      }\n    },\n    {\n      \"column\": \"Cup Size\",\n      \"properties\": {\n        \"dtype\": \"category\",\n        \"num_unique_values\": 8,\n        \"samples\": [\n          \"DD\",\n          \"A\",\n          \"E\"\n        ],\n        \"semantic_type\": \"\",\n        \"description\": \"\"\n      }\n    },\n    {\n      \"column\": \"Waist\",\n      \"properties\": {\n        \"dtype\": \"number\",\n        \"std\": 5,\n        \"min\": 22,\n        \"max\": 42,\n        \"num_unique_values\": 21,\n        \"samples\": [\n          35,\n          22,\n          32\n        ],\n        \"semantic_type\": \"\",\n        \"description\": \"\"\n      }\n    },\n    {\n      \"column\": \"Hips\",\n      \"properties\": {\n        \"dtype\": \"number\",\n        \"std\": 6,\n        \"min\": 22,\n        \"max\": 50,\n        \"num_unique_values\": 29,\n        \"samples\": [\n          22,\n          44,\n          39\n        ],\n        \"semantic_type\": \"\",\n        \"description\": \"\"\n      }\n    },\n    {\n      \"column\": \"Body Shape Index\",\n      \"properties\": {\n        \"dtype\": \"number\",\n        \"std\": 1,\n        \"min\": 0,\n        \"max\": 4,\n        \"num_unique_values\": 5,\n        \"samples\": [\n          0,\n          1,\n          2\n        ],\n        \"semantic_type\": \"\",\n        \"description\": \"\"\n      }\n    },\n    {\n      \"column\": \"Size\",\n      \"properties\": {\n        \"dtype\": \"number\",\n        \"std\": 0,\n        \"min\": 6,\n        \"max\": 6,\n        \"num_unique_values\": 1,\n        \"samples\": [\n          6\n        ],\n        \"semantic_type\": \"\",\n        \"description\": \"\"\n      }\n    }\n  ]\n}"
            }
          },
          "metadata": {},
          "execution_count": 8
        }
      ]
    },
    {
      "cell_type": "markdown",
      "source": [
        "Making a dictionary to map body size to corresponding ratios"
      ],
      "metadata": {
        "id": "nJFaOD8_Enjg"
      }
    },
    {
      "cell_type": "markdown",
      "source": [
        "[![image.png](https://i.postimg.cc/BQTnh7mf/image.png)](https://postimg.cc/8jCGc48Z)"
      ],
      "metadata": {
        "id": "dEH5-CE45DM8"
      }
    },
    {
      "cell_type": "code",
      "source": [
        "Body_Index = {0: ('Rectangle', 3.6 * 2.54, 3.6 * 2.54, 9 * 2.54, 10 * 2.54),\n",
        "              1: ('Apple',   3.6 * 2.54, 9 * 2.54, None, None),\n",
        "              2: ('Pear', 2 * 2.54, 7 * 2.54 , 9 * 2.54, None),\n",
        "              3: ('Hourglass', 1 * 2.54, 3.6 * 2.54, 9 * 2.54, 10 * 2.54)\n",
        "              #4: (3.6\n",
        "              }"
      ],
      "metadata": {
        "id": "61PZJZ8bEcu0"
      },
      "execution_count": null,
      "outputs": []
    },
    {
      "cell_type": "markdown",
      "source": [
        "![image](https://images.prismic.io/universalstandard/64a5f0f8-f64f-4744-8ea0-a49f1ce3f7dd_size-chart-desktop.jpg?auto=compress,format)"
      ],
      "metadata": {
        "id": "euyffJiXQne4"
      }
    },
    {
      "cell_type": "markdown",
      "source": [
        "# MALE ANALYSIS"
      ],
      "metadata": {
        "id": "FGGsuMwQJZxO"
      }
    },
    {
      "cell_type": "code",
      "source": [
        "df_male[['Weight', 'Bust/Chest', 'Waist', 'Hips']].describe()"
      ],
      "metadata": {
        "colab": {
          "base_uri": "https://localhost:8080/",
          "height": 300
        },
        "id": "mWZVhjFHJCbO",
        "outputId": "4b085301-508a-49b0-8f0c-a677274fa32a"
      },
      "execution_count": null,
      "outputs": [
        {
          "output_type": "execute_result",
          "data": {
            "text/plain": [
              "           Weight  Bust/Chest       Waist        Hips\n",
              "count  475.000000  475.000000  475.000000  475.000000\n",
              "mean    72.812632   40.012632   36.326316   40.778947\n",
              "std     16.245371    6.573493    6.208138    6.391217\n",
              "min     42.000000   30.000000   26.000000   26.000000\n",
              "25%     60.000000   34.000000   31.000000   36.000000\n",
              "50%     71.000000   40.000000   36.000000   42.000000\n",
              "75%     83.000000   46.000000   41.000000   46.000000\n",
              "max    117.000000   52.000000   48.000000   50.000000"
            ],
            "text/html": [
              "\n",
              "  <div id=\"df-ea7e3ba3-39fa-420a-ad9e-7c653c548e07\" class=\"colab-df-container\">\n",
              "    <div>\n",
              "<style scoped>\n",
              "    .dataframe tbody tr th:only-of-type {\n",
              "        vertical-align: middle;\n",
              "    }\n",
              "\n",
              "    .dataframe tbody tr th {\n",
              "        vertical-align: top;\n",
              "    }\n",
              "\n",
              "    .dataframe thead th {\n",
              "        text-align: right;\n",
              "    }\n",
              "</style>\n",
              "<table border=\"1\" class=\"dataframe\">\n",
              "  <thead>\n",
              "    <tr style=\"text-align: right;\">\n",
              "      <th></th>\n",
              "      <th>Weight</th>\n",
              "      <th>Bust/Chest</th>\n",
              "      <th>Waist</th>\n",
              "      <th>Hips</th>\n",
              "    </tr>\n",
              "  </thead>\n",
              "  <tbody>\n",
              "    <tr>\n",
              "      <th>count</th>\n",
              "      <td>475.000000</td>\n",
              "      <td>475.000000</td>\n",
              "      <td>475.000000</td>\n",
              "      <td>475.000000</td>\n",
              "    </tr>\n",
              "    <tr>\n",
              "      <th>mean</th>\n",
              "      <td>72.812632</td>\n",
              "      <td>40.012632</td>\n",
              "      <td>36.326316</td>\n",
              "      <td>40.778947</td>\n",
              "    </tr>\n",
              "    <tr>\n",
              "      <th>std</th>\n",
              "      <td>16.245371</td>\n",
              "      <td>6.573493</td>\n",
              "      <td>6.208138</td>\n",
              "      <td>6.391217</td>\n",
              "    </tr>\n",
              "    <tr>\n",
              "      <th>min</th>\n",
              "      <td>42.000000</td>\n",
              "      <td>30.000000</td>\n",
              "      <td>26.000000</td>\n",
              "      <td>26.000000</td>\n",
              "    </tr>\n",
              "    <tr>\n",
              "      <th>25%</th>\n",
              "      <td>60.000000</td>\n",
              "      <td>34.000000</td>\n",
              "      <td>31.000000</td>\n",
              "      <td>36.000000</td>\n",
              "    </tr>\n",
              "    <tr>\n",
              "      <th>50%</th>\n",
              "      <td>71.000000</td>\n",
              "      <td>40.000000</td>\n",
              "      <td>36.000000</td>\n",
              "      <td>42.000000</td>\n",
              "    </tr>\n",
              "    <tr>\n",
              "      <th>75%</th>\n",
              "      <td>83.000000</td>\n",
              "      <td>46.000000</td>\n",
              "      <td>41.000000</td>\n",
              "      <td>46.000000</td>\n",
              "    </tr>\n",
              "    <tr>\n",
              "      <th>max</th>\n",
              "      <td>117.000000</td>\n",
              "      <td>52.000000</td>\n",
              "      <td>48.000000</td>\n",
              "      <td>50.000000</td>\n",
              "    </tr>\n",
              "  </tbody>\n",
              "</table>\n",
              "</div>\n",
              "    <div class=\"colab-df-buttons\">\n",
              "\n",
              "  <div class=\"colab-df-container\">\n",
              "    <button class=\"colab-df-convert\" onclick=\"convertToInteractive('df-ea7e3ba3-39fa-420a-ad9e-7c653c548e07')\"\n",
              "            title=\"Convert this dataframe to an interactive table.\"\n",
              "            style=\"display:none;\">\n",
              "\n",
              "  <svg xmlns=\"http://www.w3.org/2000/svg\" height=\"24px\" viewBox=\"0 -960 960 960\">\n",
              "    <path d=\"M120-120v-720h720v720H120Zm60-500h600v-160H180v160Zm220 220h160v-160H400v160Zm0 220h160v-160H400v160ZM180-400h160v-160H180v160Zm440 0h160v-160H620v160ZM180-180h160v-160H180v160Zm440 0h160v-160H620v160Z\"/>\n",
              "  </svg>\n",
              "    </button>\n",
              "\n",
              "  <style>\n",
              "    .colab-df-container {\n",
              "      display:flex;\n",
              "      gap: 12px;\n",
              "    }\n",
              "\n",
              "    .colab-df-convert {\n",
              "      background-color: #E8F0FE;\n",
              "      border: none;\n",
              "      border-radius: 50%;\n",
              "      cursor: pointer;\n",
              "      display: none;\n",
              "      fill: #1967D2;\n",
              "      height: 32px;\n",
              "      padding: 0 0 0 0;\n",
              "      width: 32px;\n",
              "    }\n",
              "\n",
              "    .colab-df-convert:hover {\n",
              "      background-color: #E2EBFA;\n",
              "      box-shadow: 0px 1px 2px rgba(60, 64, 67, 0.3), 0px 1px 3px 1px rgba(60, 64, 67, 0.15);\n",
              "      fill: #174EA6;\n",
              "    }\n",
              "\n",
              "    .colab-df-buttons div {\n",
              "      margin-bottom: 4px;\n",
              "    }\n",
              "\n",
              "    [theme=dark] .colab-df-convert {\n",
              "      background-color: #3B4455;\n",
              "      fill: #D2E3FC;\n",
              "    }\n",
              "\n",
              "    [theme=dark] .colab-df-convert:hover {\n",
              "      background-color: #434B5C;\n",
              "      box-shadow: 0px 1px 3px 1px rgba(0, 0, 0, 0.15);\n",
              "      filter: drop-shadow(0px 1px 2px rgba(0, 0, 0, 0.3));\n",
              "      fill: #FFFFFF;\n",
              "    }\n",
              "  </style>\n",
              "\n",
              "    <script>\n",
              "      const buttonEl =\n",
              "        document.querySelector('#df-ea7e3ba3-39fa-420a-ad9e-7c653c548e07 button.colab-df-convert');\n",
              "      buttonEl.style.display =\n",
              "        google.colab.kernel.accessAllowed ? 'block' : 'none';\n",
              "\n",
              "      async function convertToInteractive(key) {\n",
              "        const element = document.querySelector('#df-ea7e3ba3-39fa-420a-ad9e-7c653c548e07');\n",
              "        const dataTable =\n",
              "          await google.colab.kernel.invokeFunction('convertToInteractive',\n",
              "                                                    [key], {});\n",
              "        if (!dataTable) return;\n",
              "\n",
              "        const docLinkHtml = 'Like what you see? Visit the ' +\n",
              "          '<a target=\"_blank\" href=https://colab.research.google.com/notebooks/data_table.ipynb>data table notebook</a>'\n",
              "          + ' to learn more about interactive tables.';\n",
              "        element.innerHTML = '';\n",
              "        dataTable['output_type'] = 'display_data';\n",
              "        await google.colab.output.renderOutput(dataTable, element);\n",
              "        const docLink = document.createElement('div');\n",
              "        docLink.innerHTML = docLinkHtml;\n",
              "        element.appendChild(docLink);\n",
              "      }\n",
              "    </script>\n",
              "  </div>\n",
              "\n",
              "\n",
              "<div id=\"df-0eff8287-64b3-4dff-be07-36287c4093c9\">\n",
              "  <button class=\"colab-df-quickchart\" onclick=\"quickchart('df-0eff8287-64b3-4dff-be07-36287c4093c9')\"\n",
              "            title=\"Suggest charts\"\n",
              "            style=\"display:none;\">\n",
              "\n",
              "<svg xmlns=\"http://www.w3.org/2000/svg\" height=\"24px\"viewBox=\"0 0 24 24\"\n",
              "     width=\"24px\">\n",
              "    <g>\n",
              "        <path d=\"M19 3H5c-1.1 0-2 .9-2 2v14c0 1.1.9 2 2 2h14c1.1 0 2-.9 2-2V5c0-1.1-.9-2-2-2zM9 17H7v-7h2v7zm4 0h-2V7h2v10zm4 0h-2v-4h2v4z\"/>\n",
              "    </g>\n",
              "</svg>\n",
              "  </button>\n",
              "\n",
              "<style>\n",
              "  .colab-df-quickchart {\n",
              "      --bg-color: #E8F0FE;\n",
              "      --fill-color: #1967D2;\n",
              "      --hover-bg-color: #E2EBFA;\n",
              "      --hover-fill-color: #174EA6;\n",
              "      --disabled-fill-color: #AAA;\n",
              "      --disabled-bg-color: #DDD;\n",
              "  }\n",
              "\n",
              "  [theme=dark] .colab-df-quickchart {\n",
              "      --bg-color: #3B4455;\n",
              "      --fill-color: #D2E3FC;\n",
              "      --hover-bg-color: #434B5C;\n",
              "      --hover-fill-color: #FFFFFF;\n",
              "      --disabled-bg-color: #3B4455;\n",
              "      --disabled-fill-color: #666;\n",
              "  }\n",
              "\n",
              "  .colab-df-quickchart {\n",
              "    background-color: var(--bg-color);\n",
              "    border: none;\n",
              "    border-radius: 50%;\n",
              "    cursor: pointer;\n",
              "    display: none;\n",
              "    fill: var(--fill-color);\n",
              "    height: 32px;\n",
              "    padding: 0;\n",
              "    width: 32px;\n",
              "  }\n",
              "\n",
              "  .colab-df-quickchart:hover {\n",
              "    background-color: var(--hover-bg-color);\n",
              "    box-shadow: 0 1px 2px rgba(60, 64, 67, 0.3), 0 1px 3px 1px rgba(60, 64, 67, 0.15);\n",
              "    fill: var(--button-hover-fill-color);\n",
              "  }\n",
              "\n",
              "  .colab-df-quickchart-complete:disabled,\n",
              "  .colab-df-quickchart-complete:disabled:hover {\n",
              "    background-color: var(--disabled-bg-color);\n",
              "    fill: var(--disabled-fill-color);\n",
              "    box-shadow: none;\n",
              "  }\n",
              "\n",
              "  .colab-df-spinner {\n",
              "    border: 2px solid var(--fill-color);\n",
              "    border-color: transparent;\n",
              "    border-bottom-color: var(--fill-color);\n",
              "    animation:\n",
              "      spin 1s steps(1) infinite;\n",
              "  }\n",
              "\n",
              "  @keyframes spin {\n",
              "    0% {\n",
              "      border-color: transparent;\n",
              "      border-bottom-color: var(--fill-color);\n",
              "      border-left-color: var(--fill-color);\n",
              "    }\n",
              "    20% {\n",
              "      border-color: transparent;\n",
              "      border-left-color: var(--fill-color);\n",
              "      border-top-color: var(--fill-color);\n",
              "    }\n",
              "    30% {\n",
              "      border-color: transparent;\n",
              "      border-left-color: var(--fill-color);\n",
              "      border-top-color: var(--fill-color);\n",
              "      border-right-color: var(--fill-color);\n",
              "    }\n",
              "    40% {\n",
              "      border-color: transparent;\n",
              "      border-right-color: var(--fill-color);\n",
              "      border-top-color: var(--fill-color);\n",
              "    }\n",
              "    60% {\n",
              "      border-color: transparent;\n",
              "      border-right-color: var(--fill-color);\n",
              "    }\n",
              "    80% {\n",
              "      border-color: transparent;\n",
              "      border-right-color: var(--fill-color);\n",
              "      border-bottom-color: var(--fill-color);\n",
              "    }\n",
              "    90% {\n",
              "      border-color: transparent;\n",
              "      border-bottom-color: var(--fill-color);\n",
              "    }\n",
              "  }\n",
              "</style>\n",
              "\n",
              "  <script>\n",
              "    async function quickchart(key) {\n",
              "      const quickchartButtonEl =\n",
              "        document.querySelector('#' + key + ' button');\n",
              "      quickchartButtonEl.disabled = true;  // To prevent multiple clicks.\n",
              "      quickchartButtonEl.classList.add('colab-df-spinner');\n",
              "      try {\n",
              "        const charts = await google.colab.kernel.invokeFunction(\n",
              "            'suggestCharts', [key], {});\n",
              "      } catch (error) {\n",
              "        console.error('Error during call to suggestCharts:', error);\n",
              "      }\n",
              "      quickchartButtonEl.classList.remove('colab-df-spinner');\n",
              "      quickchartButtonEl.classList.add('colab-df-quickchart-complete');\n",
              "    }\n",
              "    (() => {\n",
              "      let quickchartButtonEl =\n",
              "        document.querySelector('#df-0eff8287-64b3-4dff-be07-36287c4093c9 button');\n",
              "      quickchartButtonEl.style.display =\n",
              "        google.colab.kernel.accessAllowed ? 'block' : 'none';\n",
              "    })();\n",
              "  </script>\n",
              "</div>\n",
              "\n",
              "    </div>\n",
              "  </div>\n"
            ],
            "application/vnd.google.colaboratory.intrinsic+json": {
              "type": "dataframe",
              "summary": "{\n  \"name\": \"df_male[['Weight', 'Bust/Chest', 'Waist', 'Hips']]\",\n  \"rows\": 8,\n  \"fields\": [\n    {\n      \"column\": \"Weight\",\n      \"properties\": {\n        \"dtype\": \"number\",\n        \"std\": 147.55816232807067,\n        \"min\": 16.245370922004685,\n        \"max\": 475.0,\n        \"num_unique_values\": 8,\n        \"samples\": [\n          72.81263157894738,\n          71.0,\n          475.0\n        ],\n        \"semantic_type\": \"\",\n        \"description\": \"\"\n      }\n    },\n    {\n      \"column\": \"Bust/Chest\",\n      \"properties\": {\n        \"dtype\": \"number\",\n        \"std\": 155.97532384104608,\n        \"min\": 6.573493026597855,\n        \"max\": 475.0,\n        \"num_unique_values\": 8,\n        \"samples\": [\n          40.01263157894737,\n          40.0,\n          475.0\n        ],\n        \"semantic_type\": \"\",\n        \"description\": \"\"\n      }\n    },\n    {\n      \"column\": \"Waist\",\n      \"properties\": {\n        \"dtype\": \"number\",\n        \"std\": 157.0862300746667,\n        \"min\": 6.208137618068461,\n        \"max\": 475.0,\n        \"num_unique_values\": 8,\n        \"samples\": [\n          36.32631578947368,\n          36.0,\n          475.0\n        ],\n        \"semantic_type\": \"\",\n        \"description\": \"\"\n      }\n    },\n    {\n      \"column\": \"Hips\",\n      \"properties\": {\n        \"dtype\": \"number\",\n        \"std\": 156.06296892327978,\n        \"min\": 6.391217185910462,\n        \"max\": 475.0,\n        \"num_unique_values\": 8,\n        \"samples\": [\n          40.77894736842105,\n          42.0,\n          475.0\n        ],\n        \"semantic_type\": \"\",\n        \"description\": \"\"\n      }\n    }\n  ]\n}"
            }
          },
          "metadata": {},
          "execution_count": 10
        }
      ]
    },
    {
      "cell_type": "code",
      "source": [
        "print(df_male.columns)\n",
        "print(df_male.dtypes)"
      ],
      "metadata": {
        "colab": {
          "base_uri": "https://localhost:8080/"
        },
        "id": "46afP4X4RbdP",
        "outputId": "40df37a1-2f18-4cf4-b2cd-6e51e344fa88"
      },
      "execution_count": null,
      "outputs": [
        {
          "output_type": "stream",
          "name": "stdout",
          "text": [
            "Index(['Height', 'Weight', 'Bust/Chest', 'Waist', 'Hips', 'Body Shape Index',\n",
            "       'Size'],\n",
            "      dtype='object')\n",
            "Height              object\n",
            "Weight               int64\n",
            "Bust/Chest           int64\n",
            "Waist                int64\n",
            "Hips                 int64\n",
            "Body Shape Index     int64\n",
            "Size                 int64\n",
            "dtype: object\n"
          ]
        }
      ]
    },
    {
      "cell_type": "markdown",
      "source": [
        "Algorithmically Predicting the Size using standard size chart taking high bounds"
      ],
      "metadata": {
        "id": "gzKP-n5iUwli"
      }
    },
    {
      "cell_type": "code",
      "source": [
        "def update(row):\n",
        "  if row['Bust/Chest'] > 40 or row['Waist'] > 38:\n",
        "    return 8\n",
        "  elif row['Bust/Chest'] > 38 and row['Waist'] > 38:\n",
        "    return 7\n",
        "  elif row['Bust/Chest'] > 36 and row['Waist'] > 36:\n",
        "    return 6\n",
        "  elif row['Bust/Chest'] > 34 and row['Waist'] > 34:\n",
        "    return 5\n",
        "  elif row['Bust/Chest'] >= 32 and row['Waist'] >= 32:\n",
        "    return 4\n",
        "  elif row['Bust/Chest'] >= 30 and row['Waist'] >= 30:\n",
        "    return 3\n",
        "  elif row['Bust/Chest'] >= 28 and row['Waist'] >= 28:\n",
        "    return 2\n",
        "  else:\n",
        "    return 1\n",
        "\n",
        "df_male['Size'] = df_male.apply(update, axis=1)\n",
        "df_female['Size'] = df_female.apply(update, axis=1)"
      ],
      "metadata": {
        "collapsed": true,
        "id": "AqCIMqXzOsNa"
      },
      "execution_count": null,
      "outputs": []
    },
    {
      "cell_type": "code",
      "source": [
        "print(df_male)"
      ],
      "metadata": {
        "colab": {
          "base_uri": "https://localhost:8080/"
        },
        "id": "cRoxgl0nrbBP",
        "outputId": "0e076ba5-081b-4b96-f872-96538e56f32d"
      },
      "execution_count": null,
      "outputs": [
        {
          "output_type": "stream",
          "name": "stdout",
          "text": [
            "    Height  Weight  Bust/Chest  Waist  Hips  Body Shape Index  Size\n",
            "1     6'1\"      85          40     30    31                 3     3\n",
            "2     5'3\"      77          44     36    42                 4     8\n",
            "3     6'4\"      74          38     48    49                 4     8\n",
            "4    4'11\"      47          35     39    41                 0     8\n",
            "7     6'4\"      88          37     48    49                 3     8\n",
            "..     ...     ...         ...    ...   ...               ...   ...\n",
            "991   5'8\"      58          39     37    37                 3     6\n",
            "992   5'4\"      63          46     28    31                 3     8\n",
            "993   6'6\"      83          45     35    43                 0     8\n",
            "997   6'4\"      73          47     31    38                 2     8\n",
            "999   6'5\"      89          32     35    39                 3     4\n",
            "\n",
            "[475 rows x 7 columns]\n"
          ]
        }
      ]
    },
    {
      "cell_type": "code",
      "source": [
        "print(df_female)"
      ],
      "metadata": {
        "colab": {
          "base_uri": "https://localhost:8080/"
        },
        "id": "hcKW3byYWsQo",
        "outputId": "32601d89-d81b-44dd-90f3-3bb7f3d23874"
      },
      "execution_count": null,
      "outputs": [
        {
          "output_type": "stream",
          "name": "stdout",
          "text": [
            "    Height  Weight  Bust/Chest Cup Size  Waist  Hips  Body Shape Index  Size\n",
            "0     5'1\"      67          37        E     35    38                 4     5\n",
            "5     6'4\"      97          37        E     28    34                 0     2\n",
            "6     5'9\"      70          33       DD     23    23                 0     1\n",
            "8     5'1\"      59          41        D     25    26                 0     8\n",
            "12   5'11\"      92          42       DD     24    26                 4     8\n",
            "..     ...     ...         ...      ...    ...   ...               ...   ...\n",
            "989   5'3\"      54          45        A     29    37                 4     8\n",
            "994   5'0\"      59          30        A     28    31                 4     2\n",
            "995   5'2\"      70          40       DD     34    36                 3     4\n",
            "996   5'6\"      84          47        F     36    38                 0     8\n",
            "998   5'1\"      45          34        E     25    29                 1     1\n",
            "\n",
            "[525 rows x 8 columns]\n"
          ]
        }
      ]
    },
    {
      "cell_type": "markdown",
      "source": [
        "## importing SVM Model and Algorithmic Metrics"
      ],
      "metadata": {
        "id": "bcDCFM51U4Bl"
      }
    },
    {
      "cell_type": "code",
      "source": [
        "from sklearn import svm\n",
        "from sklearn.metrics import accuracy_score, f1_score\n",
        "import sklearn.model_selection as model_sel"
      ],
      "metadata": {
        "id": "Oenxs0D_y5U3"
      },
      "execution_count": null,
      "outputs": []
    },
    {
      "cell_type": "code",
      "source": [
        "X = df_male[['Bust/Chest', 'Waist']]\n",
        "Y = df_male['Size']"
      ],
      "metadata": {
        "id": "41S2mvSP3RPR"
      },
      "execution_count": null,
      "outputs": []
    },
    {
      "cell_type": "code",
      "source": [
        "print(X)\n",
        "print(Y)"
      ],
      "metadata": {
        "colab": {
          "base_uri": "https://localhost:8080/"
        },
        "id": "dn_-75hD3lhK",
        "outputId": "097f5ba8-6a83-4460-b50b-6985b021f893"
      },
      "execution_count": null,
      "outputs": [
        {
          "output_type": "stream",
          "name": "stdout",
          "text": [
            "     Bust/Chest  Waist\n",
            "1            40     30\n",
            "2            44     36\n",
            "3            38     48\n",
            "4            35     39\n",
            "7            37     48\n",
            "..          ...    ...\n",
            "991          39     37\n",
            "992          46     28\n",
            "993          45     35\n",
            "997          47     31\n",
            "999          32     35\n",
            "\n",
            "[475 rows x 2 columns]\n",
            "1      3\n",
            "2      8\n",
            "3      8\n",
            "4      8\n",
            "7      8\n",
            "      ..\n",
            "991    6\n",
            "992    8\n",
            "993    8\n",
            "997    8\n",
            "999    4\n",
            "Name: Size, Length: 475, dtype: int64\n"
          ]
        }
      ]
    },
    {
      "cell_type": "markdown",
      "source": [
        "splittting test and training data"
      ],
      "metadata": {
        "id": "DlLldsQNVBO6"
      }
    },
    {
      "cell_type": "code",
      "source": [
        "x_train, x_test, y_train, y_test = model_sel.train_test_split(X, Y, train_size=0.8, test_size=0.2, random_state=101)"
      ],
      "metadata": {
        "id": "TuaO9quB12Ll"
      },
      "execution_count": null,
      "outputs": []
    },
    {
      "cell_type": "code",
      "source": [
        "print(x_train)"
      ],
      "metadata": {
        "colab": {
          "base_uri": "https://localhost:8080/"
        },
        "id": "5fzbNaDq8Ser",
        "outputId": "366816c9-ab2a-43bd-dfcb-d580e40f98ab"
      },
      "execution_count": null,
      "outputs": [
        {
          "output_type": "stream",
          "name": "stdout",
          "text": [
            "     Bust/Chest  Waist\n",
            "203          50     26\n",
            "711          45     40\n",
            "291          52     30\n",
            "909          30     40\n",
            "375          48     41\n",
            "..          ...    ...\n",
            "131          51     31\n",
            "693          50     35\n",
            "712          30     40\n",
            "21           48     35\n",
            "743          32     28\n",
            "\n",
            "[380 rows x 2 columns]\n"
          ]
        }
      ]
    },
    {
      "cell_type": "code",
      "source": [
        "print(y_train)"
      ],
      "metadata": {
        "colab": {
          "base_uri": "https://localhost:8080/"
        },
        "id": "4WT1PxhH8VWB",
        "outputId": "67e3beb9-b1aa-49a3-f999-000999d91b49"
      },
      "execution_count": null,
      "outputs": [
        {
          "output_type": "stream",
          "name": "stdout",
          "text": [
            "203    8\n",
            "711    8\n",
            "291    8\n",
            "909    8\n",
            "375    8\n",
            "      ..\n",
            "131    8\n",
            "693    8\n",
            "712    8\n",
            "21     8\n",
            "743    2\n",
            "Name: Size, Length: 380, dtype: int64\n"
          ]
        }
      ]
    },
    {
      "cell_type": "code",
      "source": [
        "poly = svm.SVC(kernel='poly',\n",
        "               degree=3,\n",
        "               C=1\n",
        "              ).fit(x_train, y_train)"
      ],
      "metadata": {
        "id": "WxmOqSTL49bP"
      },
      "execution_count": null,
      "outputs": []
    },
    {
      "cell_type": "code",
      "source": [
        "poly_predict = poly.predict(x_test)"
      ],
      "metadata": {
        "id": "Um4X5X0N5MOy"
      },
      "execution_count": null,
      "outputs": []
    },
    {
      "cell_type": "markdown",
      "source": [
        "# ACCURACY and PRECISION"
      ],
      "metadata": {
        "id": "BkjQ7PkiVGwR"
      }
    },
    {
      "cell_type": "code",
      "source": [
        "print(accuracy_score(y_test, poly_predict))\n",
        "print(f1_score(y_test, poly_predict, average='weighted'))"
      ],
      "metadata": {
        "colab": {
          "base_uri": "https://localhost:8080/"
        },
        "id": "Hmp_5BAC5V87",
        "outputId": "d3851c2e-9450-4d0a-d95b-64d4ca280fc9"
      },
      "execution_count": null,
      "outputs": [
        {
          "output_type": "stream",
          "name": "stdout",
          "text": [
            "0.9473684210526315\n",
            "0.9446600877192982\n"
          ]
        }
      ]
    },
    {
      "cell_type": "code",
      "source": [
        "ar = np.array([[26, 26],\n",
        "            [27, 26],\n",
        "            [28, 26],\n",
        "            [29, 27],\n",
        "            [30, 28],\n",
        "            [31, 29],\n",
        "            [32, 30],\n",
        "            [32, 31],\n",
        "            [33, 32],\n",
        "            [34, 33],\n",
        "            [34, 34],\n",
        "            [35, 34],\n",
        "            [36, 35],\n",
        "            [37, 36],\n",
        "            [38, 37],\n",
        "            [39, 38],\n",
        "            [40, 39]\n",
        "            ])\n",
        "ar = ar.transpose()"
      ],
      "metadata": {
        "id": "6qTen4iW7RQe"
      },
      "execution_count": null,
      "outputs": []
    },
    {
      "cell_type": "code",
      "source": [
        "size_chart = pd.DataFrame(({'Bust/Chest':ar[0],\n",
        "                            'Waist':ar[1]}))\n"
      ],
      "metadata": {
        "id": "NUksbVW18rKR"
      },
      "execution_count": null,
      "outputs": []
    },
    {
      "cell_type": "code",
      "source": [
        "print(size_chart)"
      ],
      "metadata": {
        "colab": {
          "base_uri": "https://localhost:8080/"
        },
        "id": "5hokCHT0Dv2l",
        "outputId": "edbbe218-6ec1-45d5-f012-6a9ae0813920"
      },
      "execution_count": null,
      "outputs": [
        {
          "output_type": "stream",
          "name": "stdout",
          "text": [
            "    Bust/Chest  Waist\n",
            "0           26     26\n",
            "1           27     26\n",
            "2           28     26\n",
            "3           29     27\n",
            "4           30     28\n",
            "5           31     29\n",
            "6           32     30\n",
            "7           32     31\n",
            "8           33     32\n",
            "9           34     33\n",
            "10          34     34\n",
            "11          35     34\n",
            "12          36     35\n",
            "13          37     36\n",
            "14          38     37\n",
            "15          39     38\n",
            "16          40     39\n"
          ]
        }
      ]
    },
    {
      "cell_type": "code",
      "source": [
        "size_chart_pred = poly.predict(size_chart)"
      ],
      "metadata": {
        "id": "hRv1rKEQEBPA"
      },
      "execution_count": null,
      "outputs": []
    },
    {
      "cell_type": "code",
      "source": [
        "print(size_chart_pred)"
      ],
      "metadata": {
        "colab": {
          "base_uri": "https://localhost:8080/"
        },
        "id": "UVkysRU0Eacy",
        "outputId": "262a86c3-23b5-4430-fbef-2d30dcee166f"
      },
      "execution_count": null,
      "outputs": [
        {
          "output_type": "stream",
          "name": "stdout",
          "text": [
            "[1 1 1 1 2 2 3 3 4 4 4 4 5 5 6 8 8]\n"
          ]
        }
      ]
    },
    {
      "cell_type": "code",
      "source": [
        "size_chart['Size'] = size_chart_pred"
      ],
      "metadata": {
        "id": "VSin8nYVEno0"
      },
      "execution_count": null,
      "outputs": []
    },
    {
      "cell_type": "code",
      "source": [
        "print(size_chart)"
      ],
      "metadata": {
        "colab": {
          "base_uri": "https://localhost:8080/"
        },
        "id": "IJnSCDgCEuur",
        "outputId": "b2b4111e-10f8-435c-cc72-3ed847423446"
      },
      "execution_count": null,
      "outputs": [
        {
          "output_type": "stream",
          "name": "stdout",
          "text": [
            "    Bust/Chest  Waist  Size\n",
            "0           26     26     1\n",
            "1           27     26     1\n",
            "2           28     26     1\n",
            "3           29     27     1\n",
            "4           30     28     2\n",
            "5           31     29     2\n",
            "6           32     30     3\n",
            "7           32     31     3\n",
            "8           33     32     4\n",
            "9           34     33     4\n",
            "10          34     34     4\n",
            "11          35     34     4\n",
            "12          36     35     5\n",
            "13          37     36     5\n",
            "14          38     37     6\n",
            "15          39     38     8\n",
            "16          40     39     8\n"
          ]
        }
      ]
    },
    {
      "cell_type": "code",
      "source": [
        "xs=[26,26]\n",
        "small=[28,28]\n",
        "med=[30,30]\n",
        "large=[32, 32]\n",
        "xl=[34,34]\n",
        "x2l=[36, 36]\n",
        "x3l=[38, 38]\n",
        "x4l=[40, 40]"
      ],
      "metadata": {
        "id": "qK-qdNQyEyFt"
      },
      "execution_count": null,
      "outputs": []
    },
    {
      "cell_type": "code",
      "source": [
        "for row, i in size_chart.iterrows():\n",
        "  if i['Size'] == 1:\n",
        "    if xs[0] < i['Bust/Chest']: xs[0] = i['Bust/Chest']\n",
        "    if xs[0] < i['Waist']: xs[0] = i['Waist']\n",
        "  elif i['Size'] == 2:\n",
        "    if small[0] < i['Bust/Chest']: small[0] = i['Bust/Chest']\n",
        "    if small[0] < i['Waist']: small[0] = i['Waist']\n",
        "  elif i['Size'] == 3:\n",
        "    if med[0] < i['Bust/Chest']: med[0] = i['Bust/Chest']\n",
        "    if med[0] < i['Waist']: med[0] = i['Waist']\n",
        "  elif i['Size'] == 4:\n",
        "    if large[0] < i['Bust/Chest']: large[0] = i['Bust/Chest']\n",
        "    if large[0] < i['Waist']: large[0] = i['Waist']\n",
        "  elif i['Size'] == 5:\n",
        "    if xl[0] < i['Bust/Chest']: xl[0] = i['Bust/Chest']\n",
        "    if xl[0] < i['Waist']: xl[0] = i['Waist']\n",
        "  elif i['Size'] == 6:\n",
        "    if x2l[0] < i['Bust/Chest']: x2l[0] = i['Bust/Chest']\n",
        "    if x2l[0] < i['Waist']: x2l[0] = i['Waist']\n",
        "  elif i['Size'] == 7:\n",
        "    if x3l[0] < i['Bust/Chest']: x3l[0] = i['Bust/Chest']\n",
        "    if x3l[0] < i['Waist']: x3l[0] = i['Waist']\n",
        "  elif i['Size'] == 8:\n",
        "    if x4l[0] < i['Bust/Chest']: x4l[0] = i['Bust/Chest']\n",
        "    if x4l[0] < i['Waist']: x4l[0] = i['Waist']\n"
      ],
      "metadata": {
        "id": "ZS4G2U0ZFit0"
      },
      "execution_count": null,
      "outputs": []
    },
    {
      "cell_type": "markdown",
      "source": [
        "# PRINTING SIZE CHART"
      ],
      "metadata": {
        "id": "AqyLH_naVN8l"
      }
    },
    {
      "cell_type": "code",
      "source": [
        "print(\"\\tSize\\t\\tBust/Chest\\tWaist\")\n",
        "print(\"\\txs\", \"\\t\\t\", xs[0],\"\\t\\t\", xs[1])\n",
        "print(\"\\ts\", \"\\t\\t\", small[0],\"\\t\\t\", small[1])\n",
        "print(\"\\tm\", \"\\t\\t\", med[0],\"\\t\\t\", med[1])\n",
        "print(\"\\tl\", \"\\t\\t\", large[0],\"\\t\\t\", large[1])\n",
        "print(\"\\txl\", \"\\t\\t\", xl[0],\"\\t\\t\", xl[1])\n",
        "print(\"\\t2xl\", \"\\t\\t\", x2l[0],\"\\t\\t\", x2l[1])\n",
        "print(\"\\t3xl\", \"\\t\\t\", x3l[0],\"\\t\\t\", x3l[1])\n",
        "print(\"\\t4xl\", \"\\t\\t\", x4l[0],\"\\t\\t\", x4l[1])"
      ],
      "metadata": {
        "colab": {
          "base_uri": "https://localhost:8080/"
        },
        "id": "OJj1QMC6G3-W",
        "outputId": "23c539e5-f1ed-4bc4-9aa3-b20f3a8a5e68"
      },
      "execution_count": null,
      "outputs": [
        {
          "output_type": "stream",
          "name": "stdout",
          "text": [
            "\tSize\t\tBust/Chest\tWaist\n",
            "\txs \t\t 29 \t\t 26\n",
            "\ts \t\t 31 \t\t 28\n",
            "\tm \t\t 32 \t\t 30\n",
            "\tl \t\t 35 \t\t 32\n",
            "\txl \t\t 37 \t\t 34\n",
            "\t2xl \t\t 38 \t\t 36\n",
            "\t3xl \t\t 38 \t\t 38\n",
            "\t4xl \t\t 40 \t\t 40\n"
          ]
        }
      ]
    },
    {
      "cell_type": "markdown",
      "source": [
        "# OUTPUTTING SIZE CHART"
      ],
      "metadata": {
        "id": "uG0eDWzPVQoF"
      }
    },
    {
      "cell_type": "code",
      "source": [
        "import pickle as pk\n",
        "pk.dump(poly, open('SVM_model_male.bin', 'wb'))"
      ],
      "metadata": {
        "id": "TKsD7k4kIZPs"
      },
      "execution_count": null,
      "outputs": []
    },
    {
      "cell_type": "markdown",
      "source": [
        "# FEMALE PREDICTION"
      ],
      "metadata": {
        "id": "Z_Koca_5VToQ"
      }
    },
    {
      "cell_type": "code",
      "source": [
        "def update(row):\n",
        "  if row['Bust/Chest'] > 40 or row['Waist'] > 38:\n",
        "    return 8\n",
        "  elif row['Bust/Chest'] > 38 and row['Waist'] > 36:\n",
        "    return 7\n",
        "  elif row['Bust/Chest'] > 36 and row['Waist'] > 34:\n",
        "    return 6\n",
        "  elif row['Bust/Chest'] > 34 and row['Waist'] > 32:\n",
        "    return 5\n",
        "  elif row['Bust/Chest'] >= 32 and row['Waist'] >= 30:\n",
        "    return 4\n",
        "  elif row['Bust/Chest'] >= 30 and row['Waist'] >= 28:\n",
        "    return 3\n",
        "  elif row['Bust/Chest'] >= 28 and row['Waist'] >= 26:\n",
        "    return 2\n",
        "  else:\n",
        "    return 1\n",
        "\n",
        "df_female['Size'] = df_female.apply(update, axis=1)"
      ],
      "metadata": {
        "id": "HcJkTQnBJHSb"
      },
      "execution_count": null,
      "outputs": []
    },
    {
      "cell_type": "code",
      "source": [
        "from sklearn import svm\n",
        "from sklearn.metrics import accuracy_score, f1_score\n",
        "import sklearn.model_selection as model_sel"
      ],
      "metadata": {
        "id": "UmEsVxbJYlIo"
      },
      "execution_count": null,
      "outputs": []
    },
    {
      "cell_type": "code",
      "source": [
        "df_female.head()"
      ],
      "metadata": {
        "colab": {
          "base_uri": "https://localhost:8080/",
          "height": 206
        },
        "id": "VyusBEFIYnpp",
        "outputId": "4eb9199a-3194-408c-d49b-1269de5a5b76"
      },
      "execution_count": null,
      "outputs": [
        {
          "output_type": "execute_result",
          "data": {
            "text/plain": [
              "   Height  Weight  Bust/Chest Cup Size  Waist  Hips  Body Shape Index  Size\n",
              "0    5'1\"      67          37        E     35    38                 4     6\n",
              "5    6'4\"      97          37        E     28    34                 0     3\n",
              "6    5'9\"      70          33       DD     23    23                 0     1\n",
              "8    5'1\"      59          41        D     25    26                 0     8\n",
              "12  5'11\"      92          42       DD     24    26                 4     8"
            ],
            "text/html": [
              "\n",
              "  <div id=\"df-9cade400-ea6f-41cd-91fa-3cd70c65fcf9\" class=\"colab-df-container\">\n",
              "    <div>\n",
              "<style scoped>\n",
              "    .dataframe tbody tr th:only-of-type {\n",
              "        vertical-align: middle;\n",
              "    }\n",
              "\n",
              "    .dataframe tbody tr th {\n",
              "        vertical-align: top;\n",
              "    }\n",
              "\n",
              "    .dataframe thead th {\n",
              "        text-align: right;\n",
              "    }\n",
              "</style>\n",
              "<table border=\"1\" class=\"dataframe\">\n",
              "  <thead>\n",
              "    <tr style=\"text-align: right;\">\n",
              "      <th></th>\n",
              "      <th>Height</th>\n",
              "      <th>Weight</th>\n",
              "      <th>Bust/Chest</th>\n",
              "      <th>Cup Size</th>\n",
              "      <th>Waist</th>\n",
              "      <th>Hips</th>\n",
              "      <th>Body Shape Index</th>\n",
              "      <th>Size</th>\n",
              "    </tr>\n",
              "  </thead>\n",
              "  <tbody>\n",
              "    <tr>\n",
              "      <th>0</th>\n",
              "      <td>5'1\"</td>\n",
              "      <td>67</td>\n",
              "      <td>37</td>\n",
              "      <td>E</td>\n",
              "      <td>35</td>\n",
              "      <td>38</td>\n",
              "      <td>4</td>\n",
              "      <td>6</td>\n",
              "    </tr>\n",
              "    <tr>\n",
              "      <th>5</th>\n",
              "      <td>6'4\"</td>\n",
              "      <td>97</td>\n",
              "      <td>37</td>\n",
              "      <td>E</td>\n",
              "      <td>28</td>\n",
              "      <td>34</td>\n",
              "      <td>0</td>\n",
              "      <td>3</td>\n",
              "    </tr>\n",
              "    <tr>\n",
              "      <th>6</th>\n",
              "      <td>5'9\"</td>\n",
              "      <td>70</td>\n",
              "      <td>33</td>\n",
              "      <td>DD</td>\n",
              "      <td>23</td>\n",
              "      <td>23</td>\n",
              "      <td>0</td>\n",
              "      <td>1</td>\n",
              "    </tr>\n",
              "    <tr>\n",
              "      <th>8</th>\n",
              "      <td>5'1\"</td>\n",
              "      <td>59</td>\n",
              "      <td>41</td>\n",
              "      <td>D</td>\n",
              "      <td>25</td>\n",
              "      <td>26</td>\n",
              "      <td>0</td>\n",
              "      <td>8</td>\n",
              "    </tr>\n",
              "    <tr>\n",
              "      <th>12</th>\n",
              "      <td>5'11\"</td>\n",
              "      <td>92</td>\n",
              "      <td>42</td>\n",
              "      <td>DD</td>\n",
              "      <td>24</td>\n",
              "      <td>26</td>\n",
              "      <td>4</td>\n",
              "      <td>8</td>\n",
              "    </tr>\n",
              "  </tbody>\n",
              "</table>\n",
              "</div>\n",
              "    <div class=\"colab-df-buttons\">\n",
              "\n",
              "  <div class=\"colab-df-container\">\n",
              "    <button class=\"colab-df-convert\" onclick=\"convertToInteractive('df-9cade400-ea6f-41cd-91fa-3cd70c65fcf9')\"\n",
              "            title=\"Convert this dataframe to an interactive table.\"\n",
              "            style=\"display:none;\">\n",
              "\n",
              "  <svg xmlns=\"http://www.w3.org/2000/svg\" height=\"24px\" viewBox=\"0 -960 960 960\">\n",
              "    <path d=\"M120-120v-720h720v720H120Zm60-500h600v-160H180v160Zm220 220h160v-160H400v160Zm0 220h160v-160H400v160ZM180-400h160v-160H180v160Zm440 0h160v-160H620v160ZM180-180h160v-160H180v160Zm440 0h160v-160H620v160Z\"/>\n",
              "  </svg>\n",
              "    </button>\n",
              "\n",
              "  <style>\n",
              "    .colab-df-container {\n",
              "      display:flex;\n",
              "      gap: 12px;\n",
              "    }\n",
              "\n",
              "    .colab-df-convert {\n",
              "      background-color: #E8F0FE;\n",
              "      border: none;\n",
              "      border-radius: 50%;\n",
              "      cursor: pointer;\n",
              "      display: none;\n",
              "      fill: #1967D2;\n",
              "      height: 32px;\n",
              "      padding: 0 0 0 0;\n",
              "      width: 32px;\n",
              "    }\n",
              "\n",
              "    .colab-df-convert:hover {\n",
              "      background-color: #E2EBFA;\n",
              "      box-shadow: 0px 1px 2px rgba(60, 64, 67, 0.3), 0px 1px 3px 1px rgba(60, 64, 67, 0.15);\n",
              "      fill: #174EA6;\n",
              "    }\n",
              "\n",
              "    .colab-df-buttons div {\n",
              "      margin-bottom: 4px;\n",
              "    }\n",
              "\n",
              "    [theme=dark] .colab-df-convert {\n",
              "      background-color: #3B4455;\n",
              "      fill: #D2E3FC;\n",
              "    }\n",
              "\n",
              "    [theme=dark] .colab-df-convert:hover {\n",
              "      background-color: #434B5C;\n",
              "      box-shadow: 0px 1px 3px 1px rgba(0, 0, 0, 0.15);\n",
              "      filter: drop-shadow(0px 1px 2px rgba(0, 0, 0, 0.3));\n",
              "      fill: #FFFFFF;\n",
              "    }\n",
              "  </style>\n",
              "\n",
              "    <script>\n",
              "      const buttonEl =\n",
              "        document.querySelector('#df-9cade400-ea6f-41cd-91fa-3cd70c65fcf9 button.colab-df-convert');\n",
              "      buttonEl.style.display =\n",
              "        google.colab.kernel.accessAllowed ? 'block' : 'none';\n",
              "\n",
              "      async function convertToInteractive(key) {\n",
              "        const element = document.querySelector('#df-9cade400-ea6f-41cd-91fa-3cd70c65fcf9');\n",
              "        const dataTable =\n",
              "          await google.colab.kernel.invokeFunction('convertToInteractive',\n",
              "                                                    [key], {});\n",
              "        if (!dataTable) return;\n",
              "\n",
              "        const docLinkHtml = 'Like what you see? Visit the ' +\n",
              "          '<a target=\"_blank\" href=https://colab.research.google.com/notebooks/data_table.ipynb>data table notebook</a>'\n",
              "          + ' to learn more about interactive tables.';\n",
              "        element.innerHTML = '';\n",
              "        dataTable['output_type'] = 'display_data';\n",
              "        await google.colab.output.renderOutput(dataTable, element);\n",
              "        const docLink = document.createElement('div');\n",
              "        docLink.innerHTML = docLinkHtml;\n",
              "        element.appendChild(docLink);\n",
              "      }\n",
              "    </script>\n",
              "  </div>\n",
              "\n",
              "\n",
              "<div id=\"df-da1ffb76-a24d-4d0a-896b-8f7e2171eb7d\">\n",
              "  <button class=\"colab-df-quickchart\" onclick=\"quickchart('df-da1ffb76-a24d-4d0a-896b-8f7e2171eb7d')\"\n",
              "            title=\"Suggest charts\"\n",
              "            style=\"display:none;\">\n",
              "\n",
              "<svg xmlns=\"http://www.w3.org/2000/svg\" height=\"24px\"viewBox=\"0 0 24 24\"\n",
              "     width=\"24px\">\n",
              "    <g>\n",
              "        <path d=\"M19 3H5c-1.1 0-2 .9-2 2v14c0 1.1.9 2 2 2h14c1.1 0 2-.9 2-2V5c0-1.1-.9-2-2-2zM9 17H7v-7h2v7zm4 0h-2V7h2v10zm4 0h-2v-4h2v4z\"/>\n",
              "    </g>\n",
              "</svg>\n",
              "  </button>\n",
              "\n",
              "<style>\n",
              "  .colab-df-quickchart {\n",
              "      --bg-color: #E8F0FE;\n",
              "      --fill-color: #1967D2;\n",
              "      --hover-bg-color: #E2EBFA;\n",
              "      --hover-fill-color: #174EA6;\n",
              "      --disabled-fill-color: #AAA;\n",
              "      --disabled-bg-color: #DDD;\n",
              "  }\n",
              "\n",
              "  [theme=dark] .colab-df-quickchart {\n",
              "      --bg-color: #3B4455;\n",
              "      --fill-color: #D2E3FC;\n",
              "      --hover-bg-color: #434B5C;\n",
              "      --hover-fill-color: #FFFFFF;\n",
              "      --disabled-bg-color: #3B4455;\n",
              "      --disabled-fill-color: #666;\n",
              "  }\n",
              "\n",
              "  .colab-df-quickchart {\n",
              "    background-color: var(--bg-color);\n",
              "    border: none;\n",
              "    border-radius: 50%;\n",
              "    cursor: pointer;\n",
              "    display: none;\n",
              "    fill: var(--fill-color);\n",
              "    height: 32px;\n",
              "    padding: 0;\n",
              "    width: 32px;\n",
              "  }\n",
              "\n",
              "  .colab-df-quickchart:hover {\n",
              "    background-color: var(--hover-bg-color);\n",
              "    box-shadow: 0 1px 2px rgba(60, 64, 67, 0.3), 0 1px 3px 1px rgba(60, 64, 67, 0.15);\n",
              "    fill: var(--button-hover-fill-color);\n",
              "  }\n",
              "\n",
              "  .colab-df-quickchart-complete:disabled,\n",
              "  .colab-df-quickchart-complete:disabled:hover {\n",
              "    background-color: var(--disabled-bg-color);\n",
              "    fill: var(--disabled-fill-color);\n",
              "    box-shadow: none;\n",
              "  }\n",
              "\n",
              "  .colab-df-spinner {\n",
              "    border: 2px solid var(--fill-color);\n",
              "    border-color: transparent;\n",
              "    border-bottom-color: var(--fill-color);\n",
              "    animation:\n",
              "      spin 1s steps(1) infinite;\n",
              "  }\n",
              "\n",
              "  @keyframes spin {\n",
              "    0% {\n",
              "      border-color: transparent;\n",
              "      border-bottom-color: var(--fill-color);\n",
              "      border-left-color: var(--fill-color);\n",
              "    }\n",
              "    20% {\n",
              "      border-color: transparent;\n",
              "      border-left-color: var(--fill-color);\n",
              "      border-top-color: var(--fill-color);\n",
              "    }\n",
              "    30% {\n",
              "      border-color: transparent;\n",
              "      border-left-color: var(--fill-color);\n",
              "      border-top-color: var(--fill-color);\n",
              "      border-right-color: var(--fill-color);\n",
              "    }\n",
              "    40% {\n",
              "      border-color: transparent;\n",
              "      border-right-color: var(--fill-color);\n",
              "      border-top-color: var(--fill-color);\n",
              "    }\n",
              "    60% {\n",
              "      border-color: transparent;\n",
              "      border-right-color: var(--fill-color);\n",
              "    }\n",
              "    80% {\n",
              "      border-color: transparent;\n",
              "      border-right-color: var(--fill-color);\n",
              "      border-bottom-color: var(--fill-color);\n",
              "    }\n",
              "    90% {\n",
              "      border-color: transparent;\n",
              "      border-bottom-color: var(--fill-color);\n",
              "    }\n",
              "  }\n",
              "</style>\n",
              "\n",
              "  <script>\n",
              "    async function quickchart(key) {\n",
              "      const quickchartButtonEl =\n",
              "        document.querySelector('#' + key + ' button');\n",
              "      quickchartButtonEl.disabled = true;  // To prevent multiple clicks.\n",
              "      quickchartButtonEl.classList.add('colab-df-spinner');\n",
              "      try {\n",
              "        const charts = await google.colab.kernel.invokeFunction(\n",
              "            'suggestCharts', [key], {});\n",
              "      } catch (error) {\n",
              "        console.error('Error during call to suggestCharts:', error);\n",
              "      }\n",
              "      quickchartButtonEl.classList.remove('colab-df-spinner');\n",
              "      quickchartButtonEl.classList.add('colab-df-quickchart-complete');\n",
              "    }\n",
              "    (() => {\n",
              "      let quickchartButtonEl =\n",
              "        document.querySelector('#df-da1ffb76-a24d-4d0a-896b-8f7e2171eb7d button');\n",
              "      quickchartButtonEl.style.display =\n",
              "        google.colab.kernel.accessAllowed ? 'block' : 'none';\n",
              "    })();\n",
              "  </script>\n",
              "</div>\n",
              "\n",
              "    </div>\n",
              "  </div>\n"
            ],
            "application/vnd.google.colaboratory.intrinsic+json": {
              "type": "dataframe",
              "variable_name": "df_female",
              "summary": "{\n  \"name\": \"df_female\",\n  \"rows\": 525,\n  \"fields\": [\n    {\n      \"column\": \"Height\",\n      \"properties\": {\n        \"dtype\": \"category\",\n        \"num_unique_values\": 21,\n        \"samples\": [\n          \"5'1\\\"\",\n          \"5'10\\\"\",\n          \"6'3\\\"\"\n        ],\n        \"semantic_type\": \"\",\n        \"description\": \"\"\n      }\n    },\n    {\n      \"column\": \"Weight\",\n      \"properties\": {\n        \"dtype\": \"number\",\n        \"std\": 16,\n        \"min\": 41,\n        \"max\": 118,\n        \"num_unique_values\": 76,\n        \"samples\": [\n          92,\n          104,\n          54\n        ],\n        \"semantic_type\": \"\",\n        \"description\": \"\"\n      }\n    },\n    {\n      \"column\": \"Bust/Chest\",\n      \"properties\": {\n        \"dtype\": \"number\",\n        \"std\": 5,\n        \"min\": 28,\n        \"max\": 48,\n        \"num_unique_values\": 21,\n        \"samples\": [\n          37,\n          32,\n          34\n        ],\n        \"semantic_type\": \"\",\n        \"description\": \"\"\n      }\n    },\n    {\n      \"column\": \"Cup Size\",\n      \"properties\": {\n        \"dtype\": \"category\",\n        \"num_unique_values\": 8,\n        \"samples\": [\n          \"DD\",\n          \"A\",\n          \"E\"\n        ],\n        \"semantic_type\": \"\",\n        \"description\": \"\"\n      }\n    },\n    {\n      \"column\": \"Waist\",\n      \"properties\": {\n        \"dtype\": \"number\",\n        \"std\": 5,\n        \"min\": 22,\n        \"max\": 42,\n        \"num_unique_values\": 21,\n        \"samples\": [\n          35,\n          22,\n          32\n        ],\n        \"semantic_type\": \"\",\n        \"description\": \"\"\n      }\n    },\n    {\n      \"column\": \"Hips\",\n      \"properties\": {\n        \"dtype\": \"number\",\n        \"std\": 6,\n        \"min\": 22,\n        \"max\": 50,\n        \"num_unique_values\": 29,\n        \"samples\": [\n          22,\n          44,\n          39\n        ],\n        \"semantic_type\": \"\",\n        \"description\": \"\"\n      }\n    },\n    {\n      \"column\": \"Body Shape Index\",\n      \"properties\": {\n        \"dtype\": \"number\",\n        \"std\": 1,\n        \"min\": 0,\n        \"max\": 4,\n        \"num_unique_values\": 5,\n        \"samples\": [\n          0,\n          1,\n          2\n        ],\n        \"semantic_type\": \"\",\n        \"description\": \"\"\n      }\n    },\n    {\n      \"column\": \"Size\",\n      \"properties\": {\n        \"dtype\": \"number\",\n        \"std\": 2,\n        \"min\": 1,\n        \"max\": 8,\n        \"num_unique_values\": 8,\n        \"samples\": [\n          3,\n          4,\n          6\n        ],\n        \"semantic_type\": \"\",\n        \"description\": \"\"\n      }\n    }\n  ]\n}"
            }
          },
          "metadata": {},
          "execution_count": 40
        }
      ]
    },
    {
      "cell_type": "code",
      "source": [
        "df_female['Cup Size'].unique()"
      ],
      "metadata": {
        "id": "KmwQE72eZoPY",
        "colab": {
          "base_uri": "https://localhost:8080/"
        },
        "outputId": "1b65f307-d5ea-45ca-b1f3-b7297de60624"
      },
      "execution_count": null,
      "outputs": [
        {
          "output_type": "execute_result",
          "data": {
            "text/plain": [
              "array(['E', 'DD', 'D', 'AA', 'C', 'A', 'B', 'F'], dtype=object)"
            ]
          },
          "metadata": {},
          "execution_count": 41
        }
      ]
    },
    {
      "cell_type": "code",
      "source": [
        "df_female['Cup Size'] = df_female['Cup Size'].astype('category').cat.codes"
      ],
      "metadata": {
        "id": "siORyA4dal20"
      },
      "execution_count": null,
      "outputs": []
    },
    {
      "cell_type": "code",
      "source": [
        "X = df_female[['Bust/Chest', 'Cup Size', 'Waist']]\n",
        "# Y = df_female[['Body Shape Index', 'Size']]\n",
        "Y = df_female[['Size']]"
      ],
      "metadata": {
        "id": "GwAT9kgyYlIr"
      },
      "execution_count": null,
      "outputs": []
    },
    {
      "cell_type": "code",
      "source": [
        "print(X)\n",
        "print(Y)"
      ],
      "metadata": {
        "colab": {
          "base_uri": "https://localhost:8080/"
        },
        "outputId": "e04f69a0-ab9a-4a7d-940f-4b2247abdec4",
        "id": "WTJIcknRYlIs"
      },
      "execution_count": null,
      "outputs": [
        {
          "output_type": "stream",
          "name": "stdout",
          "text": [
            "     Bust/Chest  Cup Size  Waist\n",
            "0            37         6     35\n",
            "5            37         6     28\n",
            "6            33         5     23\n",
            "8            41         4     25\n",
            "12           42         5     24\n",
            "..          ...       ...    ...\n",
            "989          45         0     29\n",
            "994          30         0     28\n",
            "995          40         5     34\n",
            "996          47         7     36\n",
            "998          34         6     25\n",
            "\n",
            "[525 rows x 3 columns]\n",
            "     Size\n",
            "0       6\n",
            "5       3\n",
            "6       1\n",
            "8       8\n",
            "12      8\n",
            "..    ...\n",
            "989     8\n",
            "994     3\n",
            "995     5\n",
            "996     8\n",
            "998     1\n",
            "\n",
            "[525 rows x 1 columns]\n"
          ]
        }
      ]
    },
    {
      "cell_type": "code",
      "source": [
        "x_train, x_test, y_train, y_test = model_sel.train_test_split(X, Y, train_size=0.8, test_size=0.2, random_state=101)"
      ],
      "metadata": {
        "id": "HZZIDKtzYlIu"
      },
      "execution_count": null,
      "outputs": []
    },
    {
      "cell_type": "code",
      "source": [
        "print(x_train)"
      ],
      "metadata": {
        "colab": {
          "base_uri": "https://localhost:8080/"
        },
        "outputId": "4317c23c-1ddc-421d-dd51-02684e9f2cc2",
        "id": "ST_fhjYSYlIw"
      },
      "execution_count": null,
      "outputs": [
        {
          "output_type": "stream",
          "name": "stdout",
          "text": [
            "     Bust/Chest  Cup Size  Waist\n",
            "257          34         0     26\n",
            "544          31         3     39\n",
            "236          28         6     31\n",
            "95           40         5     34\n",
            "423          44         4     38\n",
            "..          ...       ...    ...\n",
            "586          40         2     28\n",
            "747          38         0     30\n",
            "140          31         3     30\n",
            "628          38         7     31\n",
            "996          47         7     36\n",
            "\n",
            "[420 rows x 3 columns]\n"
          ]
        }
      ]
    },
    {
      "cell_type": "code",
      "source": [
        "print(y_train)"
      ],
      "metadata": {
        "colab": {
          "base_uri": "https://localhost:8080/"
        },
        "outputId": "02cbf646-c9b0-4bfa-fae1-ecc85cea59ff",
        "id": "Ky8PXTyRYlIx"
      },
      "execution_count": null,
      "outputs": [
        {
          "output_type": "stream",
          "name": "stdout",
          "text": [
            "     Size\n",
            "257     2\n",
            "544     8\n",
            "236     2\n",
            "95      5\n",
            "423     8\n",
            "..    ...\n",
            "586     3\n",
            "747     4\n",
            "140     3\n",
            "628     4\n",
            "996     8\n",
            "\n",
            "[420 rows x 1 columns]\n"
          ]
        }
      ]
    },
    {
      "cell_type": "code",
      "source": [
        "np.unique(y_train)"
      ],
      "metadata": {
        "colab": {
          "base_uri": "https://localhost:8080/"
        },
        "id": "0g-QOiMqbig1",
        "outputId": "a88213ee-30cd-4f7c-dc7d-1e58ec58ea09"
      },
      "execution_count": null,
      "outputs": [
        {
          "output_type": "execute_result",
          "data": {
            "text/plain": [
              "array([1, 2, 3, 4, 5, 6, 7, 8])"
            ]
          },
          "metadata": {},
          "execution_count": 48
        }
      ]
    },
    {
      "cell_type": "markdown",
      "source": [
        "# USING HYPER PARAMETER TUNING TO IMPROVE ACCURACY METRICS"
      ],
      "metadata": {
        "id": "ILWg0FOBVYYd"
      }
    },
    {
      "cell_type": "code",
      "source": [
        "from sklearn.model_selection import GridSearchCV\n",
        "param_grid = {'C': [0.1, 1, 10, 100, 1000],\n",
        "              'degree': [1,2,3,4],\n",
        "              'kernel': ['poly']}"
      ],
      "metadata": {
        "id": "vGkKHKzodwHE"
      },
      "execution_count": null,
      "outputs": []
    },
    {
      "cell_type": "code",
      "source": [
        "grid = GridSearchCV(svm.SVC(), param_grid, refit = True, verbose = 3)"
      ],
      "metadata": {
        "id": "aQ5SXarXeR6o"
      },
      "execution_count": null,
      "outputs": []
    },
    {
      "cell_type": "code",
      "source": [
        "grid.fit(x_train, y_train)"
      ],
      "metadata": {
        "id": "kuSGM1tMetcO",
        "collapsed": true
      },
      "execution_count": null,
      "outputs": []
    },
    {
      "cell_type": "code",
      "source": [
        "poly_predict = grid.predict(x_test)"
      ],
      "metadata": {
        "id": "mA7KHpyvYlI0"
      },
      "execution_count": null,
      "outputs": []
    },
    {
      "cell_type": "markdown",
      "source": [
        "# ACCURACY"
      ],
      "metadata": {
        "id": "Fr51S3q2VdWH"
      }
    },
    {
      "cell_type": "code",
      "source": [
        "print(accuracy_score(y_test, poly_predict))\n",
        "print(f1_score(y_test, poly_predict, average='weighted'))"
      ],
      "metadata": {
        "colab": {
          "base_uri": "https://localhost:8080/"
        },
        "outputId": "5cacdf5b-dc18-4a12-da61-5325858e31f9",
        "id": "6EyFFi1xYlI2"
      },
      "execution_count": null,
      "outputs": [
        {
          "output_type": "stream",
          "name": "stdout",
          "text": [
            "0.9523809523809523\n",
            "0.9645806040561532\n"
          ]
        }
      ]
    },
    {
      "cell_type": "code",
      "source": [
        "import pickle as pk\n",
        "pk.dump(poly, open('SVM_model_female.bin', 'wb'))"
      ],
      "metadata": {
        "id": "2ce8SXcpeb6L"
      },
      "execution_count": null,
      "outputs": []
    },
    {
      "cell_type": "code",
      "source": [],
      "metadata": {
        "id": "2JMrsggIfbJH"
      },
      "execution_count": null,
      "outputs": []
    }
  ]
}